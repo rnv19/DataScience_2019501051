{
 "metadata": {
  "language_info": {
   "codemirror_mode": {
    "name": "ipython",
    "version": 3
   },
   "file_extension": ".py",
   "mimetype": "text/x-python",
   "name": "python",
   "nbconvert_exporter": "python",
   "pygments_lexer": "ipython3",
   "version": "3.8.7"
  },
  "orig_nbformat": 2,
  "kernelspec": {
   "name": "python387jvsc74a57bd0bd9b9fa2e01573c04c615c80eb9deceb460a08e7f2fed43cdd24f3a908b6f3b1",
   "display_name": "Python 3.8.7 64-bit"
  },
  "metadata": {
   "interpreter": {
    "hash": "bd9b9fa2e01573c04c615c80eb9deceb460a08e7f2fed43cdd24f3a908b6f3b1"
   }
  }
 },
 "nbformat": 4,
 "nbformat_minor": 2,
 "cells": [
  {
   "cell_type": "code",
   "execution_count": 1,
   "metadata": {},
   "outputs": [],
   "source": [
    "import pandas as pd"
   ]
  },
  {
   "cell_type": "code",
   "execution_count": 2,
   "metadata": {},
   "outputs": [],
   "source": [
    "df = pd.read_csv('Output.csv')"
   ]
  },
  {
   "cell_type": "code",
   "execution_count": 3,
   "metadata": {},
   "outputs": [],
   "source": [
    "df['Close 2016'] = df['Close 2016'].str.replace(',', '').astype(float)\n",
    "df['Close 2017'] = df['Close 2017'].str.replace(',', '').astype(float)\n",
    "df['Close 2018'] = df['Close 2018'].str.replace(',', '').astype(float)\n",
    "df['Close 2019'] = df['Close 2019'].str.replace(',', '').astype(float)\n",
    "df['Close 2020'] = df['Close 2020'].str.replace(',', '').astype(float)\n",
    "df['Close 2021'] = df['Close 2021'].str.replace(',', '').astype(float)"
   ]
  },
  {
   "cell_type": "code",
   "execution_count": 4,
   "metadata": {},
   "outputs": [
    {
     "output_type": "execute_result",
     "data": {
      "text/plain": [
       "      Unnamed: 0  Security Code Security Id                  Security Name  \\\n",
       "2718        2718         532911    PARLEIND           Parle Industries Ltd   \n",
       "1570        1570         524634    ALUFLUOR               ALUFLUORIDE LTD.   \n",
       "2903        2903         533451    KARMAENG              KARMA ENERGY LTD.   \n",
       "3570        3570         540519       MEERA           Meera Industries Ltd   \n",
       "261          261         500780   ZUARIGLOB              ZUARI GLOBAL LTD.   \n",
       "922          922         512455    LLOYDSME  LLOYDS METALS AND ENERGY LTD.   \n",
       "1895        1895         530585    SWASTIKA       SWASTIKA INVESTMART LTD.   \n",
       "2258        2258         531869     SACHEMT            SACHETA METALS LTD.   \n",
       "2775        2775         533001    SOMICONV    SOMI CONVEYOR BELTINGS LTD.   \n",
       "2805        2805         533122    RTNPOWER      RattanIndia Power Limited   \n",
       "\n",
       "      Status Group  Face Value       ISIN No                         Industry  \\\n",
       "2718  Active     X        10.0  INE272G01014  Diversified Commercial Services   \n",
       "1570  Active     X        10.0  INE058F01019              Commodity Chemicals   \n",
       "2903  Active     B        10.0  INE725L01011               Electric Utilities   \n",
       "3570  Active     M        10.0  INE343X01018             Industrial Machinery   \n",
       "261   Active     B        10.0  INE217A01012                      Fertilizers   \n",
       "922   Active     X         1.0  INE281B01032     Iron & Steel/Interm.Products   \n",
       "1895  Active     X        10.0  INE691C01014         Other Financial Services   \n",
       "2258  Active     X        10.0  INE433G01012                        Aluminium   \n",
       "2775  Active     B        10.0  INE323J01019             Industrial Machinery   \n",
       "2805  Active     B        10.0  INE399K01017               Electric Utilities   \n",
       "\n",
       "     Instrument  Close 2016  Close 2017  Close 2018  Close 2019  Close 2020  \\\n",
       "2718     Equity       12.80       12.98        6.02       13.02        9.91   \n",
       "1570     Equity       28.90      133.40      123.10       97.00      241.70   \n",
       "2903     Equity       51.35       41.00       19.50       14.08       12.76   \n",
       "3570     Equity         NaN      230.00      189.15      160.00       41.50   \n",
       "261      Equity       95.10      250.60      113.10       50.05       72.30   \n",
       "922      Equity       10.67       17.55       14.25        7.57       10.07   \n",
       "1895     Equity       71.40      211.50       70.50       70.05       95.20   \n",
       "2258     Equity       43.05       64.70       48.15       17.07       14.75   \n",
       "2775     Equity       50.45       73.35       33.75       13.50       27.85   \n",
       "2805     Equity        6.90        7.84        3.44        1.95        2.35   \n",
       "\n",
       "      Close 2021      Gain  \n",
       "2718       17.90  0.806256  \n",
       "1570      424.05  0.754448  \n",
       "2903       22.20  0.739812  \n",
       "3570       71.25  0.716867  \n",
       "261       123.15  0.703320  \n",
       "922        16.20  0.608739  \n",
       "1895      150.85  0.584559  \n",
       "2258       23.13  0.568136  \n",
       "2775       41.50  0.490126  \n",
       "2805        3.49  0.485106  "
      ],
      "text/html": "<div>\n<style scoped>\n    .dataframe tbody tr th:only-of-type {\n        vertical-align: middle;\n    }\n\n    .dataframe tbody tr th {\n        vertical-align: top;\n    }\n\n    .dataframe thead th {\n        text-align: right;\n    }\n</style>\n<table border=\"1\" class=\"dataframe\">\n  <thead>\n    <tr style=\"text-align: right;\">\n      <th></th>\n      <th>Unnamed: 0</th>\n      <th>Security Code</th>\n      <th>Security Id</th>\n      <th>Security Name</th>\n      <th>Status</th>\n      <th>Group</th>\n      <th>Face Value</th>\n      <th>ISIN No</th>\n      <th>Industry</th>\n      <th>Instrument</th>\n      <th>Close 2016</th>\n      <th>Close 2017</th>\n      <th>Close 2018</th>\n      <th>Close 2019</th>\n      <th>Close 2020</th>\n      <th>Close 2021</th>\n      <th>Gain</th>\n    </tr>\n  </thead>\n  <tbody>\n    <tr>\n      <th>2718</th>\n      <td>2718</td>\n      <td>532911</td>\n      <td>PARLEIND</td>\n      <td>Parle Industries Ltd</td>\n      <td>Active</td>\n      <td>X</td>\n      <td>10.0</td>\n      <td>INE272G01014</td>\n      <td>Diversified Commercial Services</td>\n      <td>Equity</td>\n      <td>12.80</td>\n      <td>12.98</td>\n      <td>6.02</td>\n      <td>13.02</td>\n      <td>9.91</td>\n      <td>17.90</td>\n      <td>0.806256</td>\n    </tr>\n    <tr>\n      <th>1570</th>\n      <td>1570</td>\n      <td>524634</td>\n      <td>ALUFLUOR</td>\n      <td>ALUFLUORIDE LTD.</td>\n      <td>Active</td>\n      <td>X</td>\n      <td>10.0</td>\n      <td>INE058F01019</td>\n      <td>Commodity Chemicals</td>\n      <td>Equity</td>\n      <td>28.90</td>\n      <td>133.40</td>\n      <td>123.10</td>\n      <td>97.00</td>\n      <td>241.70</td>\n      <td>424.05</td>\n      <td>0.754448</td>\n    </tr>\n    <tr>\n      <th>2903</th>\n      <td>2903</td>\n      <td>533451</td>\n      <td>KARMAENG</td>\n      <td>KARMA ENERGY LTD.</td>\n      <td>Active</td>\n      <td>B</td>\n      <td>10.0</td>\n      <td>INE725L01011</td>\n      <td>Electric Utilities</td>\n      <td>Equity</td>\n      <td>51.35</td>\n      <td>41.00</td>\n      <td>19.50</td>\n      <td>14.08</td>\n      <td>12.76</td>\n      <td>22.20</td>\n      <td>0.739812</td>\n    </tr>\n    <tr>\n      <th>3570</th>\n      <td>3570</td>\n      <td>540519</td>\n      <td>MEERA</td>\n      <td>Meera Industries Ltd</td>\n      <td>Active</td>\n      <td>M</td>\n      <td>10.0</td>\n      <td>INE343X01018</td>\n      <td>Industrial Machinery</td>\n      <td>Equity</td>\n      <td>NaN</td>\n      <td>230.00</td>\n      <td>189.15</td>\n      <td>160.00</td>\n      <td>41.50</td>\n      <td>71.25</td>\n      <td>0.716867</td>\n    </tr>\n    <tr>\n      <th>261</th>\n      <td>261</td>\n      <td>500780</td>\n      <td>ZUARIGLOB</td>\n      <td>ZUARI GLOBAL LTD.</td>\n      <td>Active</td>\n      <td>B</td>\n      <td>10.0</td>\n      <td>INE217A01012</td>\n      <td>Fertilizers</td>\n      <td>Equity</td>\n      <td>95.10</td>\n      <td>250.60</td>\n      <td>113.10</td>\n      <td>50.05</td>\n      <td>72.30</td>\n      <td>123.15</td>\n      <td>0.703320</td>\n    </tr>\n    <tr>\n      <th>922</th>\n      <td>922</td>\n      <td>512455</td>\n      <td>LLOYDSME</td>\n      <td>LLOYDS METALS AND ENERGY LTD.</td>\n      <td>Active</td>\n      <td>X</td>\n      <td>1.0</td>\n      <td>INE281B01032</td>\n      <td>Iron &amp; Steel/Interm.Products</td>\n      <td>Equity</td>\n      <td>10.67</td>\n      <td>17.55</td>\n      <td>14.25</td>\n      <td>7.57</td>\n      <td>10.07</td>\n      <td>16.20</td>\n      <td>0.608739</td>\n    </tr>\n    <tr>\n      <th>1895</th>\n      <td>1895</td>\n      <td>530585</td>\n      <td>SWASTIKA</td>\n      <td>SWASTIKA INVESTMART LTD.</td>\n      <td>Active</td>\n      <td>X</td>\n      <td>10.0</td>\n      <td>INE691C01014</td>\n      <td>Other Financial Services</td>\n      <td>Equity</td>\n      <td>71.40</td>\n      <td>211.50</td>\n      <td>70.50</td>\n      <td>70.05</td>\n      <td>95.20</td>\n      <td>150.85</td>\n      <td>0.584559</td>\n    </tr>\n    <tr>\n      <th>2258</th>\n      <td>2258</td>\n      <td>531869</td>\n      <td>SACHEMT</td>\n      <td>SACHETA METALS LTD.</td>\n      <td>Active</td>\n      <td>X</td>\n      <td>10.0</td>\n      <td>INE433G01012</td>\n      <td>Aluminium</td>\n      <td>Equity</td>\n      <td>43.05</td>\n      <td>64.70</td>\n      <td>48.15</td>\n      <td>17.07</td>\n      <td>14.75</td>\n      <td>23.13</td>\n      <td>0.568136</td>\n    </tr>\n    <tr>\n      <th>2775</th>\n      <td>2775</td>\n      <td>533001</td>\n      <td>SOMICONV</td>\n      <td>SOMI CONVEYOR BELTINGS LTD.</td>\n      <td>Active</td>\n      <td>B</td>\n      <td>10.0</td>\n      <td>INE323J01019</td>\n      <td>Industrial Machinery</td>\n      <td>Equity</td>\n      <td>50.45</td>\n      <td>73.35</td>\n      <td>33.75</td>\n      <td>13.50</td>\n      <td>27.85</td>\n      <td>41.50</td>\n      <td>0.490126</td>\n    </tr>\n    <tr>\n      <th>2805</th>\n      <td>2805</td>\n      <td>533122</td>\n      <td>RTNPOWER</td>\n      <td>RattanIndia Power Limited</td>\n      <td>Active</td>\n      <td>B</td>\n      <td>10.0</td>\n      <td>INE399K01017</td>\n      <td>Electric Utilities</td>\n      <td>Equity</td>\n      <td>6.90</td>\n      <td>7.84</td>\n      <td>3.44</td>\n      <td>1.95</td>\n      <td>2.35</td>\n      <td>3.49</td>\n      <td>0.485106</td>\n    </tr>\n  </tbody>\n</table>\n</div>"
     },
     "metadata": {},
     "execution_count": 4
    }
   ],
   "source": [
    "#One Year\n",
    "one_year = df.copy()\n",
    "\n",
    "one_year['Gain'] = (one_year['Close 2021']/one_year['Close 2020'])-1\n",
    "\n",
    "one_year.sort_values(['Gain'], inplace=True, ascending=False)\n",
    "\n",
    "one_year.head(10)"
   ]
  },
  {
   "cell_type": "code",
   "execution_count": 5,
   "metadata": {},
   "outputs": [
    {
     "output_type": "execute_result",
     "data": {
      "text/plain": [
       "      Unnamed: 0  Security Code  Security Id  \\\n",
       "190          190         500368    RUCHISOYA   \n",
       "1240        1240         519367      TRANSFD   \n",
       "2768        2768         532989   BAFNAPHARM   \n",
       "1527        1527         524372   ORCHIDPHAR   \n",
       "759          759         511153  ANJANIFOODS   \n",
       "2803        2803         533110         SPSL   \n",
       "2195        2195         531637       PRAVEG   \n",
       "1218        1218         519174        ASHAI   \n",
       "2081        2081         531307         RRIL   \n",
       "424          424         504882    NATIONSTD   \n",
       "\n",
       "                          Security Name  Status Group  Face Value  \\\n",
       "190          RUCHI SOYA INDUSTRIES LTD.  Active     T         2.0   \n",
       "1240              TRANSGLOBE FOODS LTD.  Active     X        10.0   \n",
       "2768         BAFNA PHARMACEUTICALS LTD.  Active     T        10.0   \n",
       "1527                  Orchid Pharma Ltd  Active     T        10.0   \n",
       "759                    Anjani Foods Ltd  Active    XT        10.0   \n",
       "2803        SHREE PRECOATED STEELS LTD.  Active    XT        10.0   \n",
       "2195  Praveg Communications (India) Ltd  Active     X        10.0   \n",
       "1218       ASHIANA AGRO INDUSTRIES LTD.  Active    XT        10.0   \n",
       "2081                           RRIL Ltd  Active     X         5.0   \n",
       "424      NATIONAL STANDARD (INDIA) LTD.  Active     X        10.0   \n",
       "\n",
       "           ISIN No                 Industry Instrument  Close 2016  \\\n",
       "190   INE619A01035              Edible Oils     Equity       19.00   \n",
       "1240  INE213P01027  Non-alcoholic Beverages     Equity       13.05   \n",
       "2768  INE878I01022          Pharmaceuticals     Equity       28.80   \n",
       "1527  INE191A01027          Pharmaceuticals     Equity       27.10   \n",
       "759   INE096I01013           Packaged Foods     Equity       13.71   \n",
       "2803  INE318K01025    Iron & Steel Products     Equity        1.86   \n",
       "2195  INE722B01019      Advertising & Media     Equity         NaN   \n",
       "1218  INE709D01012              Edible Oils     Equity        1.66   \n",
       "2081  INE951M01037                 Textiles     Equity        6.99   \n",
       "424   INE166R01015                   Realty     Equity         NaN   \n",
       "\n",
       "      Close 2017  Close 2018  Close 2019  Close 2020  Close 2021        Gain  \n",
       "190        18.60        9.04        3.32      674.75      665.90  199.572289  \n",
       "1240        7.00        4.35        2.80      149.50      168.15   59.053571  \n",
       "2768       28.00       12.00        4.65      175.65      169.30   35.408602  \n",
       "1527       18.70        4.73        5.25      126.13      168.85   31.161905  \n",
       "759        24.80       13.76        4.97      136.65      153.70   29.925553  \n",
       "2803        0.22        0.39        0.32        5.13        4.75   13.843750  \n",
       "2195        7.86        2.43        4.15       48.60       58.95   13.204819  \n",
       "1218        2.75        1.69        0.28        2.88        3.32   10.857143  \n",
       "2081        3.50        0.49        0.90        9.06       10.17   10.300000  \n",
       "424          NaN       25.25       44.95      443.50      496.70   10.050056  "
      ],
      "text/html": "<div>\n<style scoped>\n    .dataframe tbody tr th:only-of-type {\n        vertical-align: middle;\n    }\n\n    .dataframe tbody tr th {\n        vertical-align: top;\n    }\n\n    .dataframe thead th {\n        text-align: right;\n    }\n</style>\n<table border=\"1\" class=\"dataframe\">\n  <thead>\n    <tr style=\"text-align: right;\">\n      <th></th>\n      <th>Unnamed: 0</th>\n      <th>Security Code</th>\n      <th>Security Id</th>\n      <th>Security Name</th>\n      <th>Status</th>\n      <th>Group</th>\n      <th>Face Value</th>\n      <th>ISIN No</th>\n      <th>Industry</th>\n      <th>Instrument</th>\n      <th>Close 2016</th>\n      <th>Close 2017</th>\n      <th>Close 2018</th>\n      <th>Close 2019</th>\n      <th>Close 2020</th>\n      <th>Close 2021</th>\n      <th>Gain</th>\n    </tr>\n  </thead>\n  <tbody>\n    <tr>\n      <th>190</th>\n      <td>190</td>\n      <td>500368</td>\n      <td>RUCHISOYA</td>\n      <td>RUCHI SOYA INDUSTRIES LTD.</td>\n      <td>Active</td>\n      <td>T</td>\n      <td>2.0</td>\n      <td>INE619A01035</td>\n      <td>Edible Oils</td>\n      <td>Equity</td>\n      <td>19.00</td>\n      <td>18.60</td>\n      <td>9.04</td>\n      <td>3.32</td>\n      <td>674.75</td>\n      <td>665.90</td>\n      <td>199.572289</td>\n    </tr>\n    <tr>\n      <th>1240</th>\n      <td>1240</td>\n      <td>519367</td>\n      <td>TRANSFD</td>\n      <td>TRANSGLOBE FOODS LTD.</td>\n      <td>Active</td>\n      <td>X</td>\n      <td>10.0</td>\n      <td>INE213P01027</td>\n      <td>Non-alcoholic Beverages</td>\n      <td>Equity</td>\n      <td>13.05</td>\n      <td>7.00</td>\n      <td>4.35</td>\n      <td>2.80</td>\n      <td>149.50</td>\n      <td>168.15</td>\n      <td>59.053571</td>\n    </tr>\n    <tr>\n      <th>2768</th>\n      <td>2768</td>\n      <td>532989</td>\n      <td>BAFNAPHARM</td>\n      <td>BAFNA PHARMACEUTICALS LTD.</td>\n      <td>Active</td>\n      <td>T</td>\n      <td>10.0</td>\n      <td>INE878I01022</td>\n      <td>Pharmaceuticals</td>\n      <td>Equity</td>\n      <td>28.80</td>\n      <td>28.00</td>\n      <td>12.00</td>\n      <td>4.65</td>\n      <td>175.65</td>\n      <td>169.30</td>\n      <td>35.408602</td>\n    </tr>\n    <tr>\n      <th>1527</th>\n      <td>1527</td>\n      <td>524372</td>\n      <td>ORCHIDPHAR</td>\n      <td>Orchid Pharma Ltd</td>\n      <td>Active</td>\n      <td>T</td>\n      <td>10.0</td>\n      <td>INE191A01027</td>\n      <td>Pharmaceuticals</td>\n      <td>Equity</td>\n      <td>27.10</td>\n      <td>18.70</td>\n      <td>4.73</td>\n      <td>5.25</td>\n      <td>126.13</td>\n      <td>168.85</td>\n      <td>31.161905</td>\n    </tr>\n    <tr>\n      <th>759</th>\n      <td>759</td>\n      <td>511153</td>\n      <td>ANJANIFOODS</td>\n      <td>Anjani Foods Ltd</td>\n      <td>Active</td>\n      <td>XT</td>\n      <td>10.0</td>\n      <td>INE096I01013</td>\n      <td>Packaged Foods</td>\n      <td>Equity</td>\n      <td>13.71</td>\n      <td>24.80</td>\n      <td>13.76</td>\n      <td>4.97</td>\n      <td>136.65</td>\n      <td>153.70</td>\n      <td>29.925553</td>\n    </tr>\n    <tr>\n      <th>2803</th>\n      <td>2803</td>\n      <td>533110</td>\n      <td>SPSL</td>\n      <td>SHREE PRECOATED STEELS LTD.</td>\n      <td>Active</td>\n      <td>XT</td>\n      <td>10.0</td>\n      <td>INE318K01025</td>\n      <td>Iron &amp; Steel Products</td>\n      <td>Equity</td>\n      <td>1.86</td>\n      <td>0.22</td>\n      <td>0.39</td>\n      <td>0.32</td>\n      <td>5.13</td>\n      <td>4.75</td>\n      <td>13.843750</td>\n    </tr>\n    <tr>\n      <th>2195</th>\n      <td>2195</td>\n      <td>531637</td>\n      <td>PRAVEG</td>\n      <td>Praveg Communications (India) Ltd</td>\n      <td>Active</td>\n      <td>X</td>\n      <td>10.0</td>\n      <td>INE722B01019</td>\n      <td>Advertising &amp; Media</td>\n      <td>Equity</td>\n      <td>NaN</td>\n      <td>7.86</td>\n      <td>2.43</td>\n      <td>4.15</td>\n      <td>48.60</td>\n      <td>58.95</td>\n      <td>13.204819</td>\n    </tr>\n    <tr>\n      <th>1218</th>\n      <td>1218</td>\n      <td>519174</td>\n      <td>ASHAI</td>\n      <td>ASHIANA AGRO INDUSTRIES LTD.</td>\n      <td>Active</td>\n      <td>XT</td>\n      <td>10.0</td>\n      <td>INE709D01012</td>\n      <td>Edible Oils</td>\n      <td>Equity</td>\n      <td>1.66</td>\n      <td>2.75</td>\n      <td>1.69</td>\n      <td>0.28</td>\n      <td>2.88</td>\n      <td>3.32</td>\n      <td>10.857143</td>\n    </tr>\n    <tr>\n      <th>2081</th>\n      <td>2081</td>\n      <td>531307</td>\n      <td>RRIL</td>\n      <td>RRIL Ltd</td>\n      <td>Active</td>\n      <td>X</td>\n      <td>5.0</td>\n      <td>INE951M01037</td>\n      <td>Textiles</td>\n      <td>Equity</td>\n      <td>6.99</td>\n      <td>3.50</td>\n      <td>0.49</td>\n      <td>0.90</td>\n      <td>9.06</td>\n      <td>10.17</td>\n      <td>10.300000</td>\n    </tr>\n    <tr>\n      <th>424</th>\n      <td>424</td>\n      <td>504882</td>\n      <td>NATIONSTD</td>\n      <td>NATIONAL STANDARD (INDIA) LTD.</td>\n      <td>Active</td>\n      <td>X</td>\n      <td>10.0</td>\n      <td>INE166R01015</td>\n      <td>Realty</td>\n      <td>Equity</td>\n      <td>NaN</td>\n      <td>NaN</td>\n      <td>25.25</td>\n      <td>44.95</td>\n      <td>443.50</td>\n      <td>496.70</td>\n      <td>10.050056</td>\n    </tr>\n  </tbody>\n</table>\n</div>"
     },
     "metadata": {},
     "execution_count": 5
    }
   ],
   "source": [
    "#Two Years\n",
    "two_years = df.copy()\n",
    "\n",
    "two_years['Gain'] = (two_years['Close 2021']/two_years['Close 2019'])-1\n",
    "\n",
    "two_years.sort_values(['Gain'], inplace=True, ascending=False)\n",
    "\n",
    "two_years.head(10)"
   ]
  },
  {
   "cell_type": "code",
   "execution_count": 6,
   "metadata": {},
   "outputs": [
    {
     "output_type": "execute_result",
     "data": {
      "text/plain": [
       "      Unnamed: 0  Security Code Security Id  \\\n",
       "334          334         502901     JAMSHRI   \n",
       "190          190         500368   RUCHISOYA   \n",
       "3386        3386         539660    BESTAGRO   \n",
       "2793        2793         533093      RAJOIL   \n",
       "1240        1240         519367     TRANSFD   \n",
       "1527        1527         524372  ORCHIDPHAR   \n",
       "847          847         512020    ZSARACOM   \n",
       "1529        1529         524396  BIOFILCHEM   \n",
       "2636        2636         532790       TANLA   \n",
       "2195        2195         531637      PRAVEG   \n",
       "\n",
       "                                Security Name  Status Group  Face Value  \\\n",
       "334                      Jamshri Realty Ltd-$  Active     X      1000.0   \n",
       "190                RUCHI SOYA INDUSTRIES LTD.  Active     T         2.0   \n",
       "3386                        Best Agrolife Ltd  Active     X        10.0   \n",
       "2793                       RAJ OIL MILLS LTD.  Active     B        10.0   \n",
       "1240                    TRANSGLOBE FOODS LTD.  Active     X        10.0   \n",
       "1527                        Orchid Pharma Ltd  Active     T        10.0   \n",
       "847         SARASWATI COMMERCIAL (INDIA) LTD.  Active     X        10.0   \n",
       "1529  BIOFIL CHEMICALS & PHARMACEUTICALS LTD.  Active     T        10.0   \n",
       "2636                      Tanla Platforms Ltd  Active     B         1.0   \n",
       "2195        Praveg Communications (India) Ltd  Active     X        10.0   \n",
       "\n",
       "           ISIN No                   Industry Instrument  Close 2016  \\\n",
       "334   INE462D01026                   Textiles     Equity       24.95   \n",
       "190   INE619A01035                Edible Oils     Equity       19.00   \n",
       "3386  INE052T01013              Agrochemicals     Equity       25.00   \n",
       "2793  INE294G01026                Edible Oils     Equity        2.17   \n",
       "1240  INE213P01027    Non-alcoholic Beverages     Equity       13.05   \n",
       "1527  INE191A01027            Pharmaceuticals     Equity       27.10   \n",
       "847   INE967G01019  Finance (including NBFCs)     Equity         NaN   \n",
       "1529  INE829A01014            Pharmaceuticals     Equity        8.17   \n",
       "2636  INE483C01032       IT Software Products     Equity       56.20   \n",
       "2195  INE722B01019        Advertising & Media     Equity         NaN   \n",
       "\n",
       "      Close 2017  Close 2018  Close 2019  Close 2020  Close 2021       Gain  \n",
       "334        17.30       32.00     2100.00     2500.00     2450.00  75.562500  \n",
       "190        18.60        9.04        3.32      674.75      665.90  72.661504  \n",
       "3386        5.62       11.35      234.40      508.55      543.15  46.854626  \n",
       "2793        1.66        1.88         NaN       59.72       79.90  41.500000  \n",
       "1240        7.00        4.35        2.80      149.50      168.15  37.655172  \n",
       "1527       18.70        4.73        5.25      126.13      168.85  34.697674  \n",
       "847        14.71       36.50       91.65      941.00      952.00  25.082192  \n",
       "1529       16.75        6.65       17.06      172.65      171.40  24.774436  \n",
       "2636       40.25       30.55       70.50      681.95      767.60  24.126023  \n",
       "2195        7.86        2.43        4.15       48.60       58.95  23.259259  "
      ],
      "text/html": "<div>\n<style scoped>\n    .dataframe tbody tr th:only-of-type {\n        vertical-align: middle;\n    }\n\n    .dataframe tbody tr th {\n        vertical-align: top;\n    }\n\n    .dataframe thead th {\n        text-align: right;\n    }\n</style>\n<table border=\"1\" class=\"dataframe\">\n  <thead>\n    <tr style=\"text-align: right;\">\n      <th></th>\n      <th>Unnamed: 0</th>\n      <th>Security Code</th>\n      <th>Security Id</th>\n      <th>Security Name</th>\n      <th>Status</th>\n      <th>Group</th>\n      <th>Face Value</th>\n      <th>ISIN No</th>\n      <th>Industry</th>\n      <th>Instrument</th>\n      <th>Close 2016</th>\n      <th>Close 2017</th>\n      <th>Close 2018</th>\n      <th>Close 2019</th>\n      <th>Close 2020</th>\n      <th>Close 2021</th>\n      <th>Gain</th>\n    </tr>\n  </thead>\n  <tbody>\n    <tr>\n      <th>334</th>\n      <td>334</td>\n      <td>502901</td>\n      <td>JAMSHRI</td>\n      <td>Jamshri Realty Ltd-$</td>\n      <td>Active</td>\n      <td>X</td>\n      <td>1000.0</td>\n      <td>INE462D01026</td>\n      <td>Textiles</td>\n      <td>Equity</td>\n      <td>24.95</td>\n      <td>17.30</td>\n      <td>32.00</td>\n      <td>2100.00</td>\n      <td>2500.00</td>\n      <td>2450.00</td>\n      <td>75.562500</td>\n    </tr>\n    <tr>\n      <th>190</th>\n      <td>190</td>\n      <td>500368</td>\n      <td>RUCHISOYA</td>\n      <td>RUCHI SOYA INDUSTRIES LTD.</td>\n      <td>Active</td>\n      <td>T</td>\n      <td>2.0</td>\n      <td>INE619A01035</td>\n      <td>Edible Oils</td>\n      <td>Equity</td>\n      <td>19.00</td>\n      <td>18.60</td>\n      <td>9.04</td>\n      <td>3.32</td>\n      <td>674.75</td>\n      <td>665.90</td>\n      <td>72.661504</td>\n    </tr>\n    <tr>\n      <th>3386</th>\n      <td>3386</td>\n      <td>539660</td>\n      <td>BESTAGRO</td>\n      <td>Best Agrolife Ltd</td>\n      <td>Active</td>\n      <td>X</td>\n      <td>10.0</td>\n      <td>INE052T01013</td>\n      <td>Agrochemicals</td>\n      <td>Equity</td>\n      <td>25.00</td>\n      <td>5.62</td>\n      <td>11.35</td>\n      <td>234.40</td>\n      <td>508.55</td>\n      <td>543.15</td>\n      <td>46.854626</td>\n    </tr>\n    <tr>\n      <th>2793</th>\n      <td>2793</td>\n      <td>533093</td>\n      <td>RAJOIL</td>\n      <td>RAJ OIL MILLS LTD.</td>\n      <td>Active</td>\n      <td>B</td>\n      <td>10.0</td>\n      <td>INE294G01026</td>\n      <td>Edible Oils</td>\n      <td>Equity</td>\n      <td>2.17</td>\n      <td>1.66</td>\n      <td>1.88</td>\n      <td>NaN</td>\n      <td>59.72</td>\n      <td>79.90</td>\n      <td>41.500000</td>\n    </tr>\n    <tr>\n      <th>1240</th>\n      <td>1240</td>\n      <td>519367</td>\n      <td>TRANSFD</td>\n      <td>TRANSGLOBE FOODS LTD.</td>\n      <td>Active</td>\n      <td>X</td>\n      <td>10.0</td>\n      <td>INE213P01027</td>\n      <td>Non-alcoholic Beverages</td>\n      <td>Equity</td>\n      <td>13.05</td>\n      <td>7.00</td>\n      <td>4.35</td>\n      <td>2.80</td>\n      <td>149.50</td>\n      <td>168.15</td>\n      <td>37.655172</td>\n    </tr>\n    <tr>\n      <th>1527</th>\n      <td>1527</td>\n      <td>524372</td>\n      <td>ORCHIDPHAR</td>\n      <td>Orchid Pharma Ltd</td>\n      <td>Active</td>\n      <td>T</td>\n      <td>10.0</td>\n      <td>INE191A01027</td>\n      <td>Pharmaceuticals</td>\n      <td>Equity</td>\n      <td>27.10</td>\n      <td>18.70</td>\n      <td>4.73</td>\n      <td>5.25</td>\n      <td>126.13</td>\n      <td>168.85</td>\n      <td>34.697674</td>\n    </tr>\n    <tr>\n      <th>847</th>\n      <td>847</td>\n      <td>512020</td>\n      <td>ZSARACOM</td>\n      <td>SARASWATI COMMERCIAL (INDIA) LTD.</td>\n      <td>Active</td>\n      <td>X</td>\n      <td>10.0</td>\n      <td>INE967G01019</td>\n      <td>Finance (including NBFCs)</td>\n      <td>Equity</td>\n      <td>NaN</td>\n      <td>14.71</td>\n      <td>36.50</td>\n      <td>91.65</td>\n      <td>941.00</td>\n      <td>952.00</td>\n      <td>25.082192</td>\n    </tr>\n    <tr>\n      <th>1529</th>\n      <td>1529</td>\n      <td>524396</td>\n      <td>BIOFILCHEM</td>\n      <td>BIOFIL CHEMICALS &amp; PHARMACEUTICALS LTD.</td>\n      <td>Active</td>\n      <td>T</td>\n      <td>10.0</td>\n      <td>INE829A01014</td>\n      <td>Pharmaceuticals</td>\n      <td>Equity</td>\n      <td>8.17</td>\n      <td>16.75</td>\n      <td>6.65</td>\n      <td>17.06</td>\n      <td>172.65</td>\n      <td>171.40</td>\n      <td>24.774436</td>\n    </tr>\n    <tr>\n      <th>2636</th>\n      <td>2636</td>\n      <td>532790</td>\n      <td>TANLA</td>\n      <td>Tanla Platforms Ltd</td>\n      <td>Active</td>\n      <td>B</td>\n      <td>1.0</td>\n      <td>INE483C01032</td>\n      <td>IT Software Products</td>\n      <td>Equity</td>\n      <td>56.20</td>\n      <td>40.25</td>\n      <td>30.55</td>\n      <td>70.50</td>\n      <td>681.95</td>\n      <td>767.60</td>\n      <td>24.126023</td>\n    </tr>\n    <tr>\n      <th>2195</th>\n      <td>2195</td>\n      <td>531637</td>\n      <td>PRAVEG</td>\n      <td>Praveg Communications (India) Ltd</td>\n      <td>Active</td>\n      <td>X</td>\n      <td>10.0</td>\n      <td>INE722B01019</td>\n      <td>Advertising &amp; Media</td>\n      <td>Equity</td>\n      <td>NaN</td>\n      <td>7.86</td>\n      <td>2.43</td>\n      <td>4.15</td>\n      <td>48.60</td>\n      <td>58.95</td>\n      <td>23.259259</td>\n    </tr>\n  </tbody>\n</table>\n</div>"
     },
     "metadata": {},
     "execution_count": 6
    }
   ],
   "source": [
    "#Three Years\n",
    "three_years = df.copy()\n",
    "\n",
    "three_years['Gain'] = (three_years['Close 2021']/three_years['Close 2018'])-1\n",
    "\n",
    "three_years.sort_values(['Gain'], inplace=True, ascending=False)\n",
    "\n",
    "three_years.head(10)"
   ]
  },
  {
   "cell_type": "code",
   "execution_count": 7,
   "metadata": {},
   "outputs": [
    {
     "output_type": "execute_result",
     "data": {
      "text/plain": [
       "      Unnamed: 0  Security Code  Security Id  \\\n",
       "334          334         502901      JAMSHRI   \n",
       "1377        1377         522292      CHANDNI   \n",
       "3250        3250         539221    SPORTKING   \n",
       "2793        2793         533093       RAJOIL   \n",
       "190          190         500368    RUCHISOYA   \n",
       "873          873         512165     ABANSENT   \n",
       "2459        2459         532435     SANINFRA   \n",
       "3343        3343         539515        QUINT   \n",
       "917          917         512437     APOLLOFI   \n",
       "3046        3046         537785  ANISHAIMPEX   \n",
       "\n",
       "                              Security Name  Status Group  Face Value  \\\n",
       "334                    Jamshri Realty Ltd-$  Active     X      1000.0   \n",
       "1377  Chandni Textiles Engineering Ind. Ltd  Active     X        10.0   \n",
       "3250                    Sportking India Ltd  Active    XT        10.0   \n",
       "2793                     RAJ OIL MILLS LTD.  Active     B        10.0   \n",
       "190              RUCHI SOYA INDUSTRIES LTD.  Active     T         2.0   \n",
       "873                   Abans Enterprises Ltd  Active     X        10.0   \n",
       "2459                   Sanmit Infra Limited  Active     X        10.0   \n",
       "3343                Quint Digital Media Ltd  Active     X        10.0   \n",
       "917             APOLLO FINVEST (INDIA) LTD.  Active     X        10.0   \n",
       "3046                       Anisha Impex Ltd  Active     M        10.0   \n",
       "\n",
       "           ISIN No                      Industry Instrument  Close 2016  \\\n",
       "334   INE462D01026                      Textiles     Equity       24.95   \n",
       "1377  INE713D01055                      Textiles     Equity        1.16   \n",
       "3250  INE885H01011                      Textiles     Equity       12.50   \n",
       "2793  INE294G01026                   Edible Oils     Equity        2.17   \n",
       "190   INE619A01035                   Edible Oils     Equity       19.00   \n",
       "873   INE365O01010  Comm.Trading  & Distribution     Equity        5.07   \n",
       "2459  INE799C01023                        Realty     Equity        3.41   \n",
       "3343  INE641R01017                    Publishing     Equity       11.70   \n",
       "917   INE412D01013      Other Financial Services     Equity       15.05   \n",
       "3046  INE084Q01012                  Distributors     Equity        8.05   \n",
       "\n",
       "      Close 2017  Close 2018  Close 2019  Close 2020  Close 2021       Gain  \n",
       "334        17.30       32.00     2100.00     2500.00      2450.0  97.196393  \n",
       "1377       56.40       38.50       23.50       53.55        57.5  48.568966  \n",
       "3250       35.90      687.80      273.00      431.95       525.9  41.072000  \n",
       "2793        1.66        1.88         NaN       59.72        79.9  35.820276  \n",
       "190        18.60        9.04        3.32      674.75       665.9  34.047368  \n",
       "873         5.32       22.85      267.75      164.15       171.2  32.767258  \n",
       "2459        7.94       15.17       49.50       93.40        93.8  26.507331  \n",
       "3343       35.85       20.10      118.90      312.05       318.0  26.179487  \n",
       "917        16.83       67.95      148.40      391.00       375.0  23.916944  \n",
       "3046       13.20       45.05       42.20      206.95       195.0  23.223602  "
      ],
      "text/html": "<div>\n<style scoped>\n    .dataframe tbody tr th:only-of-type {\n        vertical-align: middle;\n    }\n\n    .dataframe tbody tr th {\n        vertical-align: top;\n    }\n\n    .dataframe thead th {\n        text-align: right;\n    }\n</style>\n<table border=\"1\" class=\"dataframe\">\n  <thead>\n    <tr style=\"text-align: right;\">\n      <th></th>\n      <th>Unnamed: 0</th>\n      <th>Security Code</th>\n      <th>Security Id</th>\n      <th>Security Name</th>\n      <th>Status</th>\n      <th>Group</th>\n      <th>Face Value</th>\n      <th>ISIN No</th>\n      <th>Industry</th>\n      <th>Instrument</th>\n      <th>Close 2016</th>\n      <th>Close 2017</th>\n      <th>Close 2018</th>\n      <th>Close 2019</th>\n      <th>Close 2020</th>\n      <th>Close 2021</th>\n      <th>Gain</th>\n    </tr>\n  </thead>\n  <tbody>\n    <tr>\n      <th>334</th>\n      <td>334</td>\n      <td>502901</td>\n      <td>JAMSHRI</td>\n      <td>Jamshri Realty Ltd-$</td>\n      <td>Active</td>\n      <td>X</td>\n      <td>1000.0</td>\n      <td>INE462D01026</td>\n      <td>Textiles</td>\n      <td>Equity</td>\n      <td>24.95</td>\n      <td>17.30</td>\n      <td>32.00</td>\n      <td>2100.00</td>\n      <td>2500.00</td>\n      <td>2450.0</td>\n      <td>97.196393</td>\n    </tr>\n    <tr>\n      <th>1377</th>\n      <td>1377</td>\n      <td>522292</td>\n      <td>CHANDNI</td>\n      <td>Chandni Textiles Engineering Ind. Ltd</td>\n      <td>Active</td>\n      <td>X</td>\n      <td>10.0</td>\n      <td>INE713D01055</td>\n      <td>Textiles</td>\n      <td>Equity</td>\n      <td>1.16</td>\n      <td>56.40</td>\n      <td>38.50</td>\n      <td>23.50</td>\n      <td>53.55</td>\n      <td>57.5</td>\n      <td>48.568966</td>\n    </tr>\n    <tr>\n      <th>3250</th>\n      <td>3250</td>\n      <td>539221</td>\n      <td>SPORTKING</td>\n      <td>Sportking India Ltd</td>\n      <td>Active</td>\n      <td>XT</td>\n      <td>10.0</td>\n      <td>INE885H01011</td>\n      <td>Textiles</td>\n      <td>Equity</td>\n      <td>12.50</td>\n      <td>35.90</td>\n      <td>687.80</td>\n      <td>273.00</td>\n      <td>431.95</td>\n      <td>525.9</td>\n      <td>41.072000</td>\n    </tr>\n    <tr>\n      <th>2793</th>\n      <td>2793</td>\n      <td>533093</td>\n      <td>RAJOIL</td>\n      <td>RAJ OIL MILLS LTD.</td>\n      <td>Active</td>\n      <td>B</td>\n      <td>10.0</td>\n      <td>INE294G01026</td>\n      <td>Edible Oils</td>\n      <td>Equity</td>\n      <td>2.17</td>\n      <td>1.66</td>\n      <td>1.88</td>\n      <td>NaN</td>\n      <td>59.72</td>\n      <td>79.9</td>\n      <td>35.820276</td>\n    </tr>\n    <tr>\n      <th>190</th>\n      <td>190</td>\n      <td>500368</td>\n      <td>RUCHISOYA</td>\n      <td>RUCHI SOYA INDUSTRIES LTD.</td>\n      <td>Active</td>\n      <td>T</td>\n      <td>2.0</td>\n      <td>INE619A01035</td>\n      <td>Edible Oils</td>\n      <td>Equity</td>\n      <td>19.00</td>\n      <td>18.60</td>\n      <td>9.04</td>\n      <td>3.32</td>\n      <td>674.75</td>\n      <td>665.9</td>\n      <td>34.047368</td>\n    </tr>\n    <tr>\n      <th>873</th>\n      <td>873</td>\n      <td>512165</td>\n      <td>ABANSENT</td>\n      <td>Abans Enterprises Ltd</td>\n      <td>Active</td>\n      <td>X</td>\n      <td>10.0</td>\n      <td>INE365O01010</td>\n      <td>Comm.Trading  &amp; Distribution</td>\n      <td>Equity</td>\n      <td>5.07</td>\n      <td>5.32</td>\n      <td>22.85</td>\n      <td>267.75</td>\n      <td>164.15</td>\n      <td>171.2</td>\n      <td>32.767258</td>\n    </tr>\n    <tr>\n      <th>2459</th>\n      <td>2459</td>\n      <td>532435</td>\n      <td>SANINFRA</td>\n      <td>Sanmit Infra Limited</td>\n      <td>Active</td>\n      <td>X</td>\n      <td>10.0</td>\n      <td>INE799C01023</td>\n      <td>Realty</td>\n      <td>Equity</td>\n      <td>3.41</td>\n      <td>7.94</td>\n      <td>15.17</td>\n      <td>49.50</td>\n      <td>93.40</td>\n      <td>93.8</td>\n      <td>26.507331</td>\n    </tr>\n    <tr>\n      <th>3343</th>\n      <td>3343</td>\n      <td>539515</td>\n      <td>QUINT</td>\n      <td>Quint Digital Media Ltd</td>\n      <td>Active</td>\n      <td>X</td>\n      <td>10.0</td>\n      <td>INE641R01017</td>\n      <td>Publishing</td>\n      <td>Equity</td>\n      <td>11.70</td>\n      <td>35.85</td>\n      <td>20.10</td>\n      <td>118.90</td>\n      <td>312.05</td>\n      <td>318.0</td>\n      <td>26.179487</td>\n    </tr>\n    <tr>\n      <th>917</th>\n      <td>917</td>\n      <td>512437</td>\n      <td>APOLLOFI</td>\n      <td>APOLLO FINVEST (INDIA) LTD.</td>\n      <td>Active</td>\n      <td>X</td>\n      <td>10.0</td>\n      <td>INE412D01013</td>\n      <td>Other Financial Services</td>\n      <td>Equity</td>\n      <td>15.05</td>\n      <td>16.83</td>\n      <td>67.95</td>\n      <td>148.40</td>\n      <td>391.00</td>\n      <td>375.0</td>\n      <td>23.916944</td>\n    </tr>\n    <tr>\n      <th>3046</th>\n      <td>3046</td>\n      <td>537785</td>\n      <td>ANISHAIMPEX</td>\n      <td>Anisha Impex Ltd</td>\n      <td>Active</td>\n      <td>M</td>\n      <td>10.0</td>\n      <td>INE084Q01012</td>\n      <td>Distributors</td>\n      <td>Equity</td>\n      <td>8.05</td>\n      <td>13.20</td>\n      <td>45.05</td>\n      <td>42.20</td>\n      <td>206.95</td>\n      <td>195.0</td>\n      <td>23.223602</td>\n    </tr>\n  </tbody>\n</table>\n</div>"
     },
     "metadata": {},
     "execution_count": 7
    }
   ],
   "source": [
    "#Five Years\n",
    "five_years = df.copy()\n",
    "\n",
    "five_years['Gain'] = (five_years['Close 2021']/five_years['Close 2016'])-1\n",
    "\n",
    "five_years.sort_values(['Gain'], inplace=True, ascending=False)\n",
    "\n",
    "five_years.head(10)"
   ]
  },
  {
   "cell_type": "code",
   "execution_count": null,
   "metadata": {},
   "outputs": [],
   "source": []
  }
 ]
}