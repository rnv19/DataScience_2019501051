{
 "metadata": {
  "language_info": {
   "codemirror_mode": {
    "name": "ipython",
    "version": 3
   },
   "file_extension": ".py",
   "mimetype": "text/x-python",
   "name": "python",
   "nbconvert_exporter": "python",
   "pygments_lexer": "ipython3",
   "version": "3.9.4"
  },
  "orig_nbformat": 2,
  "kernelspec": {
   "name": "python394jvsc74a57bd093e94fe6ca7abce744c184f852f1eecfdc7f73671430f85d9f4f4b7f058b6d13",
   "display_name": "Python 3.9.4 64-bit"
  },
  "metadata": {
   "interpreter": {
    "hash": "93e94fe6ca7abce744c184f852f1eecfdc7f73671430f85d9f4f4b7f058b6d13"
   }
  }
 },
 "nbformat": 4,
 "nbformat_minor": 2,
 "cells": [
  {
   "cell_type": "code",
   "execution_count": 1,
   "metadata": {},
   "outputs": [],
   "source": [
    "import pandas as pd"
   ]
  },
  {
   "cell_type": "code",
   "execution_count": 2,
   "metadata": {},
   "outputs": [],
   "source": [
    "df = pd.read_csv('Output_Months.csv')"
   ]
  },
  {
   "cell_type": "code",
   "execution_count": 3,
   "metadata": {},
   "outputs": [],
   "source": [
    "df['Close Jul 20'] = df['Close Jul 20'].str.replace(',', '').astype(float)\n",
    "df['Close Oct 20'] = df['Close Oct 20'].str.replace(',', '').astype(float)\n",
    "df['Close Dec 20'] = df['Close Dec 20'].str.replace(',', '').astype(float)\n",
    "df['Close Jan 21'] = df['Close Jan 21'].str.replace(',', '').astype(float)"
   ]
  },
  {
   "cell_type": "code",
   "execution_count": 4,
   "metadata": {},
   "outputs": [
    {
     "output_type": "execute_result",
     "data": {
      "text/plain": [
       "      Unnamed: 0  Security Code Security Id                  Security Name  \\\n",
       "2903        2903         533451    KARMAENG              KARMA ENERGY LTD.   \n",
       "3570        3570         540519       MEERA           Meera Industries Ltd   \n",
       "1570        1570         524634    ALUFLUOR               ALUFLUORIDE LTD.   \n",
       "1384        1384         523021   RISHITECH             RISHI TECHTEX LTD.   \n",
       "2718        2718         532911    PARLEIND           Parle Industries Ltd   \n",
       "1895        1895         530585    SWASTIKA       SWASTIKA INVESTMART LTD.   \n",
       "922          922         512455    LLOYDSME  LLOYDS METALS AND ENERGY LTD.   \n",
       "261          261         500780   ZUARIGLOB              ZUARI GLOBAL LTD.   \n",
       "2258        2258         531869     SACHEMT            SACHETA METALS LTD.   \n",
       "2924        2924         533644       UJAAS           Ujaas Energy Limited   \n",
       "\n",
       "      Status Group  Face Value       ISIN No                         Industry  \\\n",
       "2903  Active     B        10.0  INE725L01011               Electric Utilities   \n",
       "3570  Active     M        10.0  INE343X01018             Industrial Machinery   \n",
       "1570  Active     X        10.0  INE058F01019              Commodity Chemicals   \n",
       "1384  Active     X        10.0  INE989D01010           Containers & Packaging   \n",
       "2718  Active     X        10.0  INE272G01014  Diversified Commercial Services   \n",
       "1895  Active     X        10.0  INE691C01014         Other Financial Services   \n",
       "922   Active     X         1.0  INE281B01032     Iron & Steel/Interm.Products   \n",
       "261   Active     B        10.0  INE217A01012                      Fertilizers   \n",
       "2258  Active     X        10.0  INE433G01012                        Aluminium   \n",
       "2924  Active     B         1.0  INE899L01022       Heavy Electrical Equipment   \n",
       "\n",
       "     Instrument  Close Jul 20 Close Aug 20 Close Sep 20  Close Oct 20  \\\n",
       "2903     Equity          9.77        11.13         8.77          9.10   \n",
       "3570     Equity         40.10        39.00        31.60         36.00   \n",
       "1570     Equity        175.70       205.05       226.85        201.95   \n",
       "1384     Equity         15.50        14.95        14.58         15.49   \n",
       "2718     Equity         15.30        13.80        11.51          9.88   \n",
       "1895     Equity         70.85        72.50        73.85         69.30   \n",
       "922      Equity         12.14        10.30        11.65         10.31   \n",
       "261      Equity         48.00        51.90        46.10         47.80   \n",
       "2258     Equity         15.25        14.40        15.01         14.85   \n",
       "2924     Equity          5.13         4.31         3.57          3.72   \n",
       "\n",
       "     Close Nov 20  Close Dec 20  Close Jan 21      Gain  \n",
       "2903         9.46         12.76         24.42  0.913793  \n",
       "3570        37.00         41.50         74.80  0.802410  \n",
       "1570       174.25        241.70        412.25  0.705627  \n",
       "1384        15.50         15.60         26.25  0.682692  \n",
       "2718         9.80          9.91         16.11  0.625631  \n",
       "1895        74.90         95.20        154.15  0.619223  \n",
       "922          9.60         10.07         15.84  0.572989  \n",
       "261         56.95         72.30        112.50  0.556017  \n",
       "2258        15.09         14.75         22.71  0.539661  \n",
       "2924         2.96          2.75          4.18  0.520000  "
      ],
      "text/html": "<div>\n<style scoped>\n    .dataframe tbody tr th:only-of-type {\n        vertical-align: middle;\n    }\n\n    .dataframe tbody tr th {\n        vertical-align: top;\n    }\n\n    .dataframe thead th {\n        text-align: right;\n    }\n</style>\n<table border=\"1\" class=\"dataframe\">\n  <thead>\n    <tr style=\"text-align: right;\">\n      <th></th>\n      <th>Unnamed: 0</th>\n      <th>Security Code</th>\n      <th>Security Id</th>\n      <th>Security Name</th>\n      <th>Status</th>\n      <th>Group</th>\n      <th>Face Value</th>\n      <th>ISIN No</th>\n      <th>Industry</th>\n      <th>Instrument</th>\n      <th>Close Jul 20</th>\n      <th>Close Aug 20</th>\n      <th>Close Sep 20</th>\n      <th>Close Oct 20</th>\n      <th>Close Nov 20</th>\n      <th>Close Dec 20</th>\n      <th>Close Jan 21</th>\n      <th>Gain</th>\n    </tr>\n  </thead>\n  <tbody>\n    <tr>\n      <th>2903</th>\n      <td>2903</td>\n      <td>533451</td>\n      <td>KARMAENG</td>\n      <td>KARMA ENERGY LTD.</td>\n      <td>Active</td>\n      <td>B</td>\n      <td>10.0</td>\n      <td>INE725L01011</td>\n      <td>Electric Utilities</td>\n      <td>Equity</td>\n      <td>9.77</td>\n      <td>11.13</td>\n      <td>8.77</td>\n      <td>9.10</td>\n      <td>9.46</td>\n      <td>12.76</td>\n      <td>24.42</td>\n      <td>0.913793</td>\n    </tr>\n    <tr>\n      <th>3570</th>\n      <td>3570</td>\n      <td>540519</td>\n      <td>MEERA</td>\n      <td>Meera Industries Ltd</td>\n      <td>Active</td>\n      <td>M</td>\n      <td>10.0</td>\n      <td>INE343X01018</td>\n      <td>Industrial Machinery</td>\n      <td>Equity</td>\n      <td>40.10</td>\n      <td>39.00</td>\n      <td>31.60</td>\n      <td>36.00</td>\n      <td>37.00</td>\n      <td>41.50</td>\n      <td>74.80</td>\n      <td>0.802410</td>\n    </tr>\n    <tr>\n      <th>1570</th>\n      <td>1570</td>\n      <td>524634</td>\n      <td>ALUFLUOR</td>\n      <td>ALUFLUORIDE LTD.</td>\n      <td>Active</td>\n      <td>X</td>\n      <td>10.0</td>\n      <td>INE058F01019</td>\n      <td>Commodity Chemicals</td>\n      <td>Equity</td>\n      <td>175.70</td>\n      <td>205.05</td>\n      <td>226.85</td>\n      <td>201.95</td>\n      <td>174.25</td>\n      <td>241.70</td>\n      <td>412.25</td>\n      <td>0.705627</td>\n    </tr>\n    <tr>\n      <th>1384</th>\n      <td>1384</td>\n      <td>523021</td>\n      <td>RISHITECH</td>\n      <td>RISHI TECHTEX LTD.</td>\n      <td>Active</td>\n      <td>X</td>\n      <td>10.0</td>\n      <td>INE989D01010</td>\n      <td>Containers &amp; Packaging</td>\n      <td>Equity</td>\n      <td>15.50</td>\n      <td>14.95</td>\n      <td>14.58</td>\n      <td>15.49</td>\n      <td>15.50</td>\n      <td>15.60</td>\n      <td>26.25</td>\n      <td>0.682692</td>\n    </tr>\n    <tr>\n      <th>2718</th>\n      <td>2718</td>\n      <td>532911</td>\n      <td>PARLEIND</td>\n      <td>Parle Industries Ltd</td>\n      <td>Active</td>\n      <td>X</td>\n      <td>10.0</td>\n      <td>INE272G01014</td>\n      <td>Diversified Commercial Services</td>\n      <td>Equity</td>\n      <td>15.30</td>\n      <td>13.80</td>\n      <td>11.51</td>\n      <td>9.88</td>\n      <td>9.80</td>\n      <td>9.91</td>\n      <td>16.11</td>\n      <td>0.625631</td>\n    </tr>\n    <tr>\n      <th>1895</th>\n      <td>1895</td>\n      <td>530585</td>\n      <td>SWASTIKA</td>\n      <td>SWASTIKA INVESTMART LTD.</td>\n      <td>Active</td>\n      <td>X</td>\n      <td>10.0</td>\n      <td>INE691C01014</td>\n      <td>Other Financial Services</td>\n      <td>Equity</td>\n      <td>70.85</td>\n      <td>72.50</td>\n      <td>73.85</td>\n      <td>69.30</td>\n      <td>74.90</td>\n      <td>95.20</td>\n      <td>154.15</td>\n      <td>0.619223</td>\n    </tr>\n    <tr>\n      <th>922</th>\n      <td>922</td>\n      <td>512455</td>\n      <td>LLOYDSME</td>\n      <td>LLOYDS METALS AND ENERGY LTD.</td>\n      <td>Active</td>\n      <td>X</td>\n      <td>1.0</td>\n      <td>INE281B01032</td>\n      <td>Iron &amp; Steel/Interm.Products</td>\n      <td>Equity</td>\n      <td>12.14</td>\n      <td>10.30</td>\n      <td>11.65</td>\n      <td>10.31</td>\n      <td>9.60</td>\n      <td>10.07</td>\n      <td>15.84</td>\n      <td>0.572989</td>\n    </tr>\n    <tr>\n      <th>261</th>\n      <td>261</td>\n      <td>500780</td>\n      <td>ZUARIGLOB</td>\n      <td>ZUARI GLOBAL LTD.</td>\n      <td>Active</td>\n      <td>B</td>\n      <td>10.0</td>\n      <td>INE217A01012</td>\n      <td>Fertilizers</td>\n      <td>Equity</td>\n      <td>48.00</td>\n      <td>51.90</td>\n      <td>46.10</td>\n      <td>47.80</td>\n      <td>56.95</td>\n      <td>72.30</td>\n      <td>112.50</td>\n      <td>0.556017</td>\n    </tr>\n    <tr>\n      <th>2258</th>\n      <td>2258</td>\n      <td>531869</td>\n      <td>SACHEMT</td>\n      <td>SACHETA METALS LTD.</td>\n      <td>Active</td>\n      <td>X</td>\n      <td>10.0</td>\n      <td>INE433G01012</td>\n      <td>Aluminium</td>\n      <td>Equity</td>\n      <td>15.25</td>\n      <td>14.40</td>\n      <td>15.01</td>\n      <td>14.85</td>\n      <td>15.09</td>\n      <td>14.75</td>\n      <td>22.71</td>\n      <td>0.539661</td>\n    </tr>\n    <tr>\n      <th>2924</th>\n      <td>2924</td>\n      <td>533644</td>\n      <td>UJAAS</td>\n      <td>Ujaas Energy Limited</td>\n      <td>Active</td>\n      <td>B</td>\n      <td>1.0</td>\n      <td>INE899L01022</td>\n      <td>Heavy Electrical Equipment</td>\n      <td>Equity</td>\n      <td>5.13</td>\n      <td>4.31</td>\n      <td>3.57</td>\n      <td>3.72</td>\n      <td>2.96</td>\n      <td>2.75</td>\n      <td>4.18</td>\n      <td>0.520000</td>\n    </tr>\n  </tbody>\n</table>\n</div>"
     },
     "metadata": {},
     "execution_count": 4
    }
   ],
   "source": [
    "#One Month\n",
    "one_month = df.copy()\n",
    "\n",
    "one_month['Gain'] = (one_month['Close Jan 21']/one_month['Close Dec 20'])-1\n",
    "\n",
    "one_month.sort_values(['Gain'], inplace=True, ascending=False)\n",
    "\n",
    "one_month.head(10)"
   ]
  },
  {
   "cell_type": "code",
   "execution_count": 5,
   "metadata": {},
   "outputs": [
    {
     "output_type": "execute_result",
     "data": {
      "text/plain": [
       "      Unnamed: 0  Security Code  Security Id  \\\n",
       "2793        2793         533093       RAJOIL   \n",
       "2768        2768         532989   BAFNAPHARM   \n",
       "1151        1151         517214    DIGISPICE   \n",
       "738          738         510245     SWASTIVI   \n",
       "3802        3802         541358         SHWL   \n",
       "518          518         506146      VIVIDHA   \n",
       "2443        2443         532398      UMESLTD   \n",
       "759          759         511153  ANJANIFOODS   \n",
       "2262        2262         531881     GMETCOAL   \n",
       "2545        2545         532656     FACORALL   \n",
       "\n",
       "                                  Security Name  Status Group  Face Value  \\\n",
       "2793                         RAJ OIL MILLS LTD.  Active     B        10.0   \n",
       "2768                 BAFNA PHARMACEUTICALS LTD.  Active     T        10.0   \n",
       "1151               Digispice Technologies Ltd-$  Active     T         3.0   \n",
       "738             SWASTI VINAYAKA SYNTHETICS LTD.  Active    XT         1.0   \n",
       "3802                          Shree Worstex Ltd  Active    XT        10.0   \n",
       "518                        VISAGAR POLYTEX LTD.  Active     T         1.0   \n",
       "2443  Usha Martin Education & Solutions Limited  Active     T         1.0   \n",
       "759                            Anjani Foods Ltd  Active    XT        10.0   \n",
       "2262        GUJARAT METALLIC COAL & COKE LTD.-$  Active     Z       100.0   \n",
       "2545                          FACOR ALLOYS LTD.  Active    XT         1.0   \n",
       "\n",
       "           ISIN No                      Industry Instrument  Close Jul 20  \\\n",
       "2793  INE294G01026                   Edible Oils     Equity           NaN   \n",
       "2768  INE878I01022               Pharmaceuticals     Equity         10.24   \n",
       "1151  INE927C01020             Telecom Equipment     Equity          5.70   \n",
       "738   INE804A01025  Comm.Trading  & Distribution     Equity          3.19   \n",
       "3802  INE926R01012     Finance (including NBFCs)     Equity           NaN   \n",
       "518   INE370E01029                      Textiles     Equity          0.42   \n",
       "2443  INE240C01028          IT Software Products     Equity          1.70   \n",
       "759   INE096I01013                Packaged Foods     Equity         27.70   \n",
       "2262  INE146F01020  Comm.Trading  & Distribution     Equity         13.30   \n",
       "2545  INE828G01013  Iron & Steel/Interm.Products     Equity          1.17   \n",
       "\n",
       "     Close Aug 20 Close Sep 20  Close Oct 20 Close Nov 20  Close Dec 20  \\\n",
       "2793          NaN          NaN          7.79        20.48         59.72   \n",
       "2768        10.75        13.70         31.29        78.25        175.65   \n",
       "1151         8.65         7.52          6.70        10.42         23.29   \n",
       "738          3.28         5.03          4.58         4.38         14.96   \n",
       "3802          NaN          NaN         19.07        46.80         66.95   \n",
       "518          0.41         0.34          0.33         0.38          0.93   \n",
       "2443         1.44         1.21          1.06         1.40          2.75   \n",
       "759         52.25        38.15         45.45        88.90        136.65   \n",
       "2262        13.49         9.60          6.05         8.32         18.45   \n",
       "2545         1.36         1.22          1.22         1.52          3.36   \n",
       "\n",
       "      Close Jan 21      Gain  \n",
       "2793         83.85  9.763800  \n",
       "2768        160.85  4.140620  \n",
       "1151         32.60  3.865672  \n",
       "738          20.98  3.580786  \n",
       "3802         76.70  3.022024  \n",
       "518           1.27  2.848485  \n",
       "2443          3.72  2.509434  \n",
       "759         156.75  2.448845  \n",
       "2262         20.25  2.347107  \n",
       "2545          4.00  2.278689  "
      ],
      "text/html": "<div>\n<style scoped>\n    .dataframe tbody tr th:only-of-type {\n        vertical-align: middle;\n    }\n\n    .dataframe tbody tr th {\n        vertical-align: top;\n    }\n\n    .dataframe thead th {\n        text-align: right;\n    }\n</style>\n<table border=\"1\" class=\"dataframe\">\n  <thead>\n    <tr style=\"text-align: right;\">\n      <th></th>\n      <th>Unnamed: 0</th>\n      <th>Security Code</th>\n      <th>Security Id</th>\n      <th>Security Name</th>\n      <th>Status</th>\n      <th>Group</th>\n      <th>Face Value</th>\n      <th>ISIN No</th>\n      <th>Industry</th>\n      <th>Instrument</th>\n      <th>Close Jul 20</th>\n      <th>Close Aug 20</th>\n      <th>Close Sep 20</th>\n      <th>Close Oct 20</th>\n      <th>Close Nov 20</th>\n      <th>Close Dec 20</th>\n      <th>Close Jan 21</th>\n      <th>Gain</th>\n    </tr>\n  </thead>\n  <tbody>\n    <tr>\n      <th>2793</th>\n      <td>2793</td>\n      <td>533093</td>\n      <td>RAJOIL</td>\n      <td>RAJ OIL MILLS LTD.</td>\n      <td>Active</td>\n      <td>B</td>\n      <td>10.0</td>\n      <td>INE294G01026</td>\n      <td>Edible Oils</td>\n      <td>Equity</td>\n      <td>NaN</td>\n      <td>NaN</td>\n      <td>NaN</td>\n      <td>7.79</td>\n      <td>20.48</td>\n      <td>59.72</td>\n      <td>83.85</td>\n      <td>9.763800</td>\n    </tr>\n    <tr>\n      <th>2768</th>\n      <td>2768</td>\n      <td>532989</td>\n      <td>BAFNAPHARM</td>\n      <td>BAFNA PHARMACEUTICALS LTD.</td>\n      <td>Active</td>\n      <td>T</td>\n      <td>10.0</td>\n      <td>INE878I01022</td>\n      <td>Pharmaceuticals</td>\n      <td>Equity</td>\n      <td>10.24</td>\n      <td>10.75</td>\n      <td>13.70</td>\n      <td>31.29</td>\n      <td>78.25</td>\n      <td>175.65</td>\n      <td>160.85</td>\n      <td>4.140620</td>\n    </tr>\n    <tr>\n      <th>1151</th>\n      <td>1151</td>\n      <td>517214</td>\n      <td>DIGISPICE</td>\n      <td>Digispice Technologies Ltd-$</td>\n      <td>Active</td>\n      <td>T</td>\n      <td>3.0</td>\n      <td>INE927C01020</td>\n      <td>Telecom Equipment</td>\n      <td>Equity</td>\n      <td>5.70</td>\n      <td>8.65</td>\n      <td>7.52</td>\n      <td>6.70</td>\n      <td>10.42</td>\n      <td>23.29</td>\n      <td>32.60</td>\n      <td>3.865672</td>\n    </tr>\n    <tr>\n      <th>738</th>\n      <td>738</td>\n      <td>510245</td>\n      <td>SWASTIVI</td>\n      <td>SWASTI VINAYAKA SYNTHETICS LTD.</td>\n      <td>Active</td>\n      <td>XT</td>\n      <td>1.0</td>\n      <td>INE804A01025</td>\n      <td>Comm.Trading  &amp; Distribution</td>\n      <td>Equity</td>\n      <td>3.19</td>\n      <td>3.28</td>\n      <td>5.03</td>\n      <td>4.58</td>\n      <td>4.38</td>\n      <td>14.96</td>\n      <td>20.98</td>\n      <td>3.580786</td>\n    </tr>\n    <tr>\n      <th>3802</th>\n      <td>3802</td>\n      <td>541358</td>\n      <td>SHWL</td>\n      <td>Shree Worstex Ltd</td>\n      <td>Active</td>\n      <td>XT</td>\n      <td>10.0</td>\n      <td>INE926R01012</td>\n      <td>Finance (including NBFCs)</td>\n      <td>Equity</td>\n      <td>NaN</td>\n      <td>NaN</td>\n      <td>NaN</td>\n      <td>19.07</td>\n      <td>46.80</td>\n      <td>66.95</td>\n      <td>76.70</td>\n      <td>3.022024</td>\n    </tr>\n    <tr>\n      <th>518</th>\n      <td>518</td>\n      <td>506146</td>\n      <td>VIVIDHA</td>\n      <td>VISAGAR POLYTEX LTD.</td>\n      <td>Active</td>\n      <td>T</td>\n      <td>1.0</td>\n      <td>INE370E01029</td>\n      <td>Textiles</td>\n      <td>Equity</td>\n      <td>0.42</td>\n      <td>0.41</td>\n      <td>0.34</td>\n      <td>0.33</td>\n      <td>0.38</td>\n      <td>0.93</td>\n      <td>1.27</td>\n      <td>2.848485</td>\n    </tr>\n    <tr>\n      <th>2443</th>\n      <td>2443</td>\n      <td>532398</td>\n      <td>UMESLTD</td>\n      <td>Usha Martin Education &amp; Solutions Limited</td>\n      <td>Active</td>\n      <td>T</td>\n      <td>1.0</td>\n      <td>INE240C01028</td>\n      <td>IT Software Products</td>\n      <td>Equity</td>\n      <td>1.70</td>\n      <td>1.44</td>\n      <td>1.21</td>\n      <td>1.06</td>\n      <td>1.40</td>\n      <td>2.75</td>\n      <td>3.72</td>\n      <td>2.509434</td>\n    </tr>\n    <tr>\n      <th>759</th>\n      <td>759</td>\n      <td>511153</td>\n      <td>ANJANIFOODS</td>\n      <td>Anjani Foods Ltd</td>\n      <td>Active</td>\n      <td>XT</td>\n      <td>10.0</td>\n      <td>INE096I01013</td>\n      <td>Packaged Foods</td>\n      <td>Equity</td>\n      <td>27.70</td>\n      <td>52.25</td>\n      <td>38.15</td>\n      <td>45.45</td>\n      <td>88.90</td>\n      <td>136.65</td>\n      <td>156.75</td>\n      <td>2.448845</td>\n    </tr>\n    <tr>\n      <th>2262</th>\n      <td>2262</td>\n      <td>531881</td>\n      <td>GMETCOAL</td>\n      <td>GUJARAT METALLIC COAL &amp; COKE LTD.-$</td>\n      <td>Active</td>\n      <td>Z</td>\n      <td>100.0</td>\n      <td>INE146F01020</td>\n      <td>Comm.Trading  &amp; Distribution</td>\n      <td>Equity</td>\n      <td>13.30</td>\n      <td>13.49</td>\n      <td>9.60</td>\n      <td>6.05</td>\n      <td>8.32</td>\n      <td>18.45</td>\n      <td>20.25</td>\n      <td>2.347107</td>\n    </tr>\n    <tr>\n      <th>2545</th>\n      <td>2545</td>\n      <td>532656</td>\n      <td>FACORALL</td>\n      <td>FACOR ALLOYS LTD.</td>\n      <td>Active</td>\n      <td>XT</td>\n      <td>1.0</td>\n      <td>INE828G01013</td>\n      <td>Iron &amp; Steel/Interm.Products</td>\n      <td>Equity</td>\n      <td>1.17</td>\n      <td>1.36</td>\n      <td>1.22</td>\n      <td>1.22</td>\n      <td>1.52</td>\n      <td>3.36</td>\n      <td>4.00</td>\n      <td>2.278689</td>\n    </tr>\n  </tbody>\n</table>\n</div>"
     },
     "metadata": {},
     "execution_count": 5
    }
   ],
   "source": [
    "#Three Months\n",
    "three_months = df.copy()\n",
    "\n",
    "three_months['Gain'] = (three_months['Close Jan 21']/three_months['Close Oct 20'])-1\n",
    "\n",
    "three_months.sort_values(['Gain'], inplace=True, ascending=False)\n",
    "\n",
    "three_months.head(10)"
   ]
  },
  {
   "cell_type": "code",
   "execution_count": 6,
   "metadata": {},
   "outputs": [
    {
     "output_type": "execute_result",
     "data": {
      "text/plain": [
       "      Unnamed: 0  Security Code Security Id  \\\n",
       "2768        2768         532989  BAFNAPHARM   \n",
       "3498        3498         540135      ARCFIN   \n",
       "1784        1784         530057     VIVANZA   \n",
       "1218        1218         519174       ASHAI   \n",
       "1908        1908         530665    ZENITHHE   \n",
       "1104        1104         515008     MODINSU   \n",
       "738          738         510245    SWASTIVI   \n",
       "2636        2636         532790       TANLA   \n",
       "1529        1529         524396  BIOFILCHEM   \n",
       "3566        3566         540481        CLFL   \n",
       "\n",
       "                                Security Name  Status Group  Face Value  \\\n",
       "2768               BAFNA PHARMACEUTICALS LTD.  Active     T        10.0   \n",
       "3498                          ARC Finance Ltd  Active    XT        10.0   \n",
       "1784                  Vivanza Biosciences Ltd  Active    XT        10.0   \n",
       "1218             ASHIANA AGRO INDUSTRIES LTD.  Active    XT        10.0   \n",
       "1908                  ZENITH HEALTH CARE LTD.  Active    XT         1.0   \n",
       "1104                   MODERN INSULATORS LTD.  Active    XT        10.0   \n",
       "738           SWASTI VINAYAKA SYNTHETICS LTD.  Active    XT         1.0   \n",
       "2636                      Tanla Platforms Ltd  Active     B         1.0   \n",
       "1529  BIOFIL CHEMICALS & PHARMACEUTICALS LTD.  Active     T        10.0   \n",
       "3566            Classic Leasing & Finance Ltd  Active    XT        10.0   \n",
       "\n",
       "           ISIN No                      Industry Instrument  Close Jul 20  \\\n",
       "2768  INE878I01022               Pharmaceuticals     Equity         10.24   \n",
       "3498  INE202R01018      Other Financial Services     Equity          0.33   \n",
       "1784  INE984E01027               Pharmaceuticals     Equity         12.45   \n",
       "1218  INE709D01012                   Edible Oils     Equity          0.39   \n",
       "1908  INE812B01026               Pharmaceuticals     Equity          1.61   \n",
       "1104  INE219W01012     Other Elect.Equip./ Prod.     Equity          6.81   \n",
       "738   INE804A01025  Comm.Trading  & Distribution     Equity          3.19   \n",
       "2636  INE483C01032          IT Software Products     Equity        118.55   \n",
       "1529  INE829A01014               Pharmaceuticals     Equity         26.39   \n",
       "3566  INE949C01016      Other Financial Services     Equity          3.02   \n",
       "\n",
       "     Close Aug 20 Close Sep 20  Close Oct 20 Close Nov 20  Close Dec 20  \\\n",
       "2768        10.75        13.70         31.29        78.25        175.65   \n",
       "3498         0.60         0.94          1.20         1.53          3.32   \n",
       "1784        13.70        21.21         38.35        55.25        112.20   \n",
       "1218         0.48         0.73          1.17         1.53          2.88   \n",
       "1908         2.25         3.60          4.71         6.86          9.75   \n",
       "1104         9.37        13.82         20.42        29.20         43.60   \n",
       "738          3.28         5.03          4.58         4.38         14.96   \n",
       "2636       229.35       292.10        325.15       612.80        681.95   \n",
       "1529        33.40        53.30        100.00       216.55        172.65   \n",
       "3566         3.81         7.50         11.03        15.64         19.00   \n",
       "\n",
       "      Close Jan 21       Gain  \n",
       "2768        160.85  14.708008  \n",
       "3498          3.78  10.454545  \n",
       "1784        124.35   8.987952  \n",
       "1218          3.38   7.666667  \n",
       "1908         13.69   7.503106  \n",
       "1104         49.90   6.327460  \n",
       "738          20.98   5.576803  \n",
       "2636        757.75   5.391818  \n",
       "1529        162.85   5.170898  \n",
       "3566         18.50   5.125828  "
      ],
      "text/html": "<div>\n<style scoped>\n    .dataframe tbody tr th:only-of-type {\n        vertical-align: middle;\n    }\n\n    .dataframe tbody tr th {\n        vertical-align: top;\n    }\n\n    .dataframe thead th {\n        text-align: right;\n    }\n</style>\n<table border=\"1\" class=\"dataframe\">\n  <thead>\n    <tr style=\"text-align: right;\">\n      <th></th>\n      <th>Unnamed: 0</th>\n      <th>Security Code</th>\n      <th>Security Id</th>\n      <th>Security Name</th>\n      <th>Status</th>\n      <th>Group</th>\n      <th>Face Value</th>\n      <th>ISIN No</th>\n      <th>Industry</th>\n      <th>Instrument</th>\n      <th>Close Jul 20</th>\n      <th>Close Aug 20</th>\n      <th>Close Sep 20</th>\n      <th>Close Oct 20</th>\n      <th>Close Nov 20</th>\n      <th>Close Dec 20</th>\n      <th>Close Jan 21</th>\n      <th>Gain</th>\n    </tr>\n  </thead>\n  <tbody>\n    <tr>\n      <th>2768</th>\n      <td>2768</td>\n      <td>532989</td>\n      <td>BAFNAPHARM</td>\n      <td>BAFNA PHARMACEUTICALS LTD.</td>\n      <td>Active</td>\n      <td>T</td>\n      <td>10.0</td>\n      <td>INE878I01022</td>\n      <td>Pharmaceuticals</td>\n      <td>Equity</td>\n      <td>10.24</td>\n      <td>10.75</td>\n      <td>13.70</td>\n      <td>31.29</td>\n      <td>78.25</td>\n      <td>175.65</td>\n      <td>160.85</td>\n      <td>14.708008</td>\n    </tr>\n    <tr>\n      <th>3498</th>\n      <td>3498</td>\n      <td>540135</td>\n      <td>ARCFIN</td>\n      <td>ARC Finance Ltd</td>\n      <td>Active</td>\n      <td>XT</td>\n      <td>10.0</td>\n      <td>INE202R01018</td>\n      <td>Other Financial Services</td>\n      <td>Equity</td>\n      <td>0.33</td>\n      <td>0.60</td>\n      <td>0.94</td>\n      <td>1.20</td>\n      <td>1.53</td>\n      <td>3.32</td>\n      <td>3.78</td>\n      <td>10.454545</td>\n    </tr>\n    <tr>\n      <th>1784</th>\n      <td>1784</td>\n      <td>530057</td>\n      <td>VIVANZA</td>\n      <td>Vivanza Biosciences Ltd</td>\n      <td>Active</td>\n      <td>XT</td>\n      <td>10.0</td>\n      <td>INE984E01027</td>\n      <td>Pharmaceuticals</td>\n      <td>Equity</td>\n      <td>12.45</td>\n      <td>13.70</td>\n      <td>21.21</td>\n      <td>38.35</td>\n      <td>55.25</td>\n      <td>112.20</td>\n      <td>124.35</td>\n      <td>8.987952</td>\n    </tr>\n    <tr>\n      <th>1218</th>\n      <td>1218</td>\n      <td>519174</td>\n      <td>ASHAI</td>\n      <td>ASHIANA AGRO INDUSTRIES LTD.</td>\n      <td>Active</td>\n      <td>XT</td>\n      <td>10.0</td>\n      <td>INE709D01012</td>\n      <td>Edible Oils</td>\n      <td>Equity</td>\n      <td>0.39</td>\n      <td>0.48</td>\n      <td>0.73</td>\n      <td>1.17</td>\n      <td>1.53</td>\n      <td>2.88</td>\n      <td>3.38</td>\n      <td>7.666667</td>\n    </tr>\n    <tr>\n      <th>1908</th>\n      <td>1908</td>\n      <td>530665</td>\n      <td>ZENITHHE</td>\n      <td>ZENITH HEALTH CARE LTD.</td>\n      <td>Active</td>\n      <td>XT</td>\n      <td>1.0</td>\n      <td>INE812B01026</td>\n      <td>Pharmaceuticals</td>\n      <td>Equity</td>\n      <td>1.61</td>\n      <td>2.25</td>\n      <td>3.60</td>\n      <td>4.71</td>\n      <td>6.86</td>\n      <td>9.75</td>\n      <td>13.69</td>\n      <td>7.503106</td>\n    </tr>\n    <tr>\n      <th>1104</th>\n      <td>1104</td>\n      <td>515008</td>\n      <td>MODINSU</td>\n      <td>MODERN INSULATORS LTD.</td>\n      <td>Active</td>\n      <td>XT</td>\n      <td>10.0</td>\n      <td>INE219W01012</td>\n      <td>Other Elect.Equip./ Prod.</td>\n      <td>Equity</td>\n      <td>6.81</td>\n      <td>9.37</td>\n      <td>13.82</td>\n      <td>20.42</td>\n      <td>29.20</td>\n      <td>43.60</td>\n      <td>49.90</td>\n      <td>6.327460</td>\n    </tr>\n    <tr>\n      <th>738</th>\n      <td>738</td>\n      <td>510245</td>\n      <td>SWASTIVI</td>\n      <td>SWASTI VINAYAKA SYNTHETICS LTD.</td>\n      <td>Active</td>\n      <td>XT</td>\n      <td>1.0</td>\n      <td>INE804A01025</td>\n      <td>Comm.Trading  &amp; Distribution</td>\n      <td>Equity</td>\n      <td>3.19</td>\n      <td>3.28</td>\n      <td>5.03</td>\n      <td>4.58</td>\n      <td>4.38</td>\n      <td>14.96</td>\n      <td>20.98</td>\n      <td>5.576803</td>\n    </tr>\n    <tr>\n      <th>2636</th>\n      <td>2636</td>\n      <td>532790</td>\n      <td>TANLA</td>\n      <td>Tanla Platforms Ltd</td>\n      <td>Active</td>\n      <td>B</td>\n      <td>1.0</td>\n      <td>INE483C01032</td>\n      <td>IT Software Products</td>\n      <td>Equity</td>\n      <td>118.55</td>\n      <td>229.35</td>\n      <td>292.10</td>\n      <td>325.15</td>\n      <td>612.80</td>\n      <td>681.95</td>\n      <td>757.75</td>\n      <td>5.391818</td>\n    </tr>\n    <tr>\n      <th>1529</th>\n      <td>1529</td>\n      <td>524396</td>\n      <td>BIOFILCHEM</td>\n      <td>BIOFIL CHEMICALS &amp; PHARMACEUTICALS LTD.</td>\n      <td>Active</td>\n      <td>T</td>\n      <td>10.0</td>\n      <td>INE829A01014</td>\n      <td>Pharmaceuticals</td>\n      <td>Equity</td>\n      <td>26.39</td>\n      <td>33.40</td>\n      <td>53.30</td>\n      <td>100.00</td>\n      <td>216.55</td>\n      <td>172.65</td>\n      <td>162.85</td>\n      <td>5.170898</td>\n    </tr>\n    <tr>\n      <th>3566</th>\n      <td>3566</td>\n      <td>540481</td>\n      <td>CLFL</td>\n      <td>Classic Leasing &amp; Finance Ltd</td>\n      <td>Active</td>\n      <td>XT</td>\n      <td>10.0</td>\n      <td>INE949C01016</td>\n      <td>Other Financial Services</td>\n      <td>Equity</td>\n      <td>3.02</td>\n      <td>3.81</td>\n      <td>7.50</td>\n      <td>11.03</td>\n      <td>15.64</td>\n      <td>19.00</td>\n      <td>18.50</td>\n      <td>5.125828</td>\n    </tr>\n  </tbody>\n</table>\n</div>"
     },
     "metadata": {},
     "execution_count": 6
    }
   ],
   "source": [
    "#Six Months\n",
    "six_months = df.copy()\n",
    "\n",
    "six_months['Gain'] = (six_months['Close Jan 21']/six_months['Close Jul 20'])-1\n",
    "\n",
    "six_months.sort_values(['Gain'], inplace=True, ascending=False)\n",
    "\n",
    "six_months.head(10)"
   ]
  },
  {
   "cell_type": "code",
   "execution_count": null,
   "metadata": {},
   "outputs": [],
   "source": []
  }
 ]
}